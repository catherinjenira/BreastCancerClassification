# %%
import pandas as pd
import numpy as np

# %%
import matplotlib.pyplot as plt # Import matplotlib for data visualisation
import seaborn as sns

# %%
classify=pd.read_csv("D:cancer_dataset.csv")

# %%
classify

# %%
classify.keys()

# %%
print(classify['diagnosis'])

# %%
print([classify.target])

# %%
classify

# %%
print(classify['target_name'])

# %%
classify.head(5)

# %%
classify.tail(5)

# %%
import seaborn as sns

sns.pairplot(classify, vars=['radius_mean', 'texture_mean', 'area_mean', 'perimeter_mean', 'smoothness_mean'])

# %%
sns.pairplot(classify,hue = 'target', vars= ['radius_mean','texture_mean', 'area_mean', 'perimeter_mean', 'smoothness_mean'])

# %%
sns.countplot(classify['target'])

# %%
sns.scatterplot(x='area_mean', y='smoothness_mean', hue='target', data=classify)

# %%
import matplotlib.pyplot as plt
import numpy as np

plt.figure(figsize=(20,10))

# Select only numeric columns for correlation
numeric_cancer = classify.select_dtypes(include=[np.number])

# Compute and plot the heatmap
sns.heatmap(numeric_cancer.corr(), annot=True)

# %%
import pandas as pd

# Load the CSV
df = pd.read_csv('D:cancer_dataset.csv')

# Convert the 'targets' column to float
df['target'] = df['target'].astype(float)

# Save the updated DataFrame
df.to_csv('cancer.csv', index=False)


# %%
classify=pd.read_csv("cancer.csv")
x = classify.drop(['target'],axis=1)

# %%
x

# %%
y = classify['target']
y

# %%
from sklearn.model_selection import train_test_split

# %%
x_train, x_test, y_train, y_test = train_test_split(x, y, test_size=0.20, random_state= 5)

# %%
x_train

# %%
x_train.shape

# %%
x_test

# %%
x_test.shape

# %%
y_train

# %%
y_train.shape

# %%
y_test

# %%
y_test.shape

# %%
from sklearn.ensemble import RandomForestClassifier
from sklearn.metrics import classification_report, confusion_matrix

# %%
model= RandomForestClassifier()
model

# %%
from sklearn.ensemble import RandomForestClassifier
from sklearn.metrics import classification_report, confusion_matrix

# %%
print(x_train.shape)
print(y_train.shape)
print(x_train.head())
print(y_train.head())

# %%
x_train = x_train.dropna()
y_train = y_train.dropna()

# %%
x_train = x_train.select_dtypes(include=[np.number])

# %%
y_train = y_train.astype(int)

# %%
from sklearn.ensemble import RandomForestClassifier
from sklearn.metrics import classification_report, confusion_matrix

# Ensure x_train and y_train are valid
print(x_train.shape)
print(y_train.shape)

# Train the model
model = RandomForestClassifier()
model.fit(x_train, y_train)

# %%
model.fit(x_train, y_train)

# %%
# Ensure x_test has the same columns as x_train
x_test = x_test[x_train.columns]

# Make predictions
y_predict = model.predict(x_test)

# %%
y_predict

# %%
cm = confusion_matrix(y_test, y_predict)

# %%
sns.heatmap(cm, annot=True)

# %%
print(classification_report(y_test, y_predict))

# %%
min_train = x_train.min()
min_train

# %%
range_train = (x_train - min_train).max()
range_train    

# %%
x_train_scaled = (x_train - min_train)/range_train
x_train_scaled

# %%
sns.scatterplot(x = x_train['area_mean'], y= x_train['smoothness_mean'], hue= y_train)

# %%
sns.scatterplot(x= x_train_scaled['area_mean'], y= x_train_scaled['smoothness_mean'], hue= y_train)

# %%
min_test = x_test.min()
range_test = (x_test - min_test).max()
x_test_scaled = (x_test - min_test)/ range_test

# %%
model.fit(x_train_scaled, y_train)

# %%
y_pedict = model.predict(x_test_scaled)
cm = confusion_matrix(y_test, y_predict)
sns.heatmap(cm, annot=True, fmt = 'd')

# %%
print(classification_report(y_test, y_predict))

# %%



